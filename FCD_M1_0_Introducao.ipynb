{
  "nbformat": 4,
  "nbformat_minor": 0,
  "metadata": {
    "kernelspec": {
      "display_name": "Python 3",
      "language": "python",
      "name": "python3"
    },
    "language_info": {
      "codemirror_mode": {
        "name": "ipython",
        "version": 3
      },
      "file_extension": ".py",
      "mimetype": "text/x-python",
      "name": "python",
      "nbconvert_exporter": "python",
      "pygments_lexer": "ipython3",
      "version": "3.8.5"
    },
    "colab": {
      "name": "FCD_M1_0_Introducao.ipynb",
      "provenance": [],
      "include_colab_link": true
    }
  },
  "cells": [
    {
      "cell_type": "markdown",
      "metadata": {
        "id": "view-in-github",
        "colab_type": "text"
      },
      "source": [
        "<a href=\"https://colab.research.google.com/github/zavaleta/Fundamentos_DS/blob/main/FCD_M1_0_Introducao.ipynb\" target=\"_parent\"><img src=\"https://colab.research.google.com/assets/colab-badge.svg\" alt=\"Open In Colab\"/></a>"
      ]
    },
    {
      "cell_type": "markdown",
      "metadata": {
        "id": "WJEBJ372kJml"
      },
      "source": [
        "![PPGI_UFRJ](https://github.com/zavaleta/Fundamentos_DS/blob/main/imagens/ppgi-ufrj.png?raw=1)\n",
        "# Fundamentos de Ciência de Dados"
      ]
    },
    {
      "cell_type": "markdown",
      "metadata": {
        "id": "v1jqACqhkJmr"
      },
      "source": [
        "# Módulo 1 - Markdown"
      ]
    },
    {
      "cell_type": "markdown",
      "metadata": {
        "id": "4S4UUXzgkJms"
      },
      "source": [
        "## Introdução ao Python Notebook"
      ]
    },
    {
      "cell_type": "markdown",
      "metadata": {
        "id": "P-vaVISHkJms"
      },
      "source": [
        "# Introdução"
      ]
    },
    {
      "cell_type": "markdown",
      "metadata": {
        "id": "PA75-r7MkJmt"
      },
      "source": [
        "Esta é uma prova de funcionamento"
      ]
    },
    {
      "cell_type": "markdown",
      "metadata": {
        "id": "WRqMgoX1kJmt"
      },
      "source": [
        "###  Linguagem Markdown"
      ]
    },
    {
      "cell_type": "code",
      "metadata": {
        "id": "wNpspbc3kJmu",
        "outputId": "47d2893e-15f5-4c9d-8b25-a1f66826c6f5"
      },
      "source": [
        "print('Hello')"
      ],
      "execution_count": null,
      "outputs": [
        {
          "output_type": "stream",
          "text": [
            "Hello\n"
          ],
          "name": "stdout"
        }
      ]
    },
    {
      "cell_type": "markdown",
      "metadata": {
        "id": "qjXmUgjxkJmv"
      },
      "source": [
        "# Titulos\n"
      ]
    },
    {
      "cell_type": "code",
      "metadata": {
        "id": "au-oUZ6bkJmv"
      },
      "source": [
        "# codigo 1\n",
        "def functiox():\n",
        "    print(2)\n"
      ],
      "execution_count": null,
      "outputs": []
    },
    {
      "cell_type": "code",
      "metadata": {
        "id": "jSPeUPIGkJmw",
        "outputId": "392d42fc-6ac8-421b-c3e7-f71a40478505"
      },
      "source": [
        "functiox()"
      ],
      "execution_count": null,
      "outputs": [
        {
          "output_type": "stream",
          "text": [
            "2\n"
          ],
          "name": "stdout"
        }
      ]
    },
    {
      "cell_type": "markdown",
      "metadata": {
        "id": "5AAXwPGWkWUL"
      },
      "source": [
        "# Latex"
      ]
    },
    {
      "cell_type": "markdown",
      "metadata": {
        "id": "a9q1k5vBkJmw"
      },
      "source": [
        "Latex:\n",
        "$x^{2}+4=0$"
      ]
    },
    {
      "cell_type": "code",
      "metadata": {
        "id": "lqGmSVkNkr1z"
      },
      "source": [
        ""
      ],
      "execution_count": null,
      "outputs": []
    },
    {
      "cell_type": "markdown",
      "metadata": {
        "id": "5Nkn3ZFekJmw"
      },
      "source": [
        "---\n",
        "#### Fundamentos de Ciência de Dados &copy; Copyright 2021, Sergio Serra & Jorge Zavaleta"
      ]
    }
  ]
}